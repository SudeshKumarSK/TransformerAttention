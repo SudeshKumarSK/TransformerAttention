{
 "cells": [
  {
   "cell_type": "code",
   "execution_count": 83,
   "id": "e05d5be6",
   "metadata": {},
   "outputs": [],
   "source": [
    "import torch\n",
    "import torch.nn as nn\n",
    "import torch.nn.functional as F\n",
    "\n",
    "SEED = 42"
   ]
  },
  {
   "cell_type": "code",
   "execution_count": 84,
   "id": "cf46c295",
   "metadata": {},
   "outputs": [],
   "source": [
    "class SelfAttention(nn.Module):\n",
    "    def __init__(self, embed_dim, row_dim=0, col_dim=1):\n",
    "\n",
    "        torch.manual_seed(SEED)\n",
    "        super().__init__()\n",
    "        \n",
    "        self.embed_dim = embed_dim\n",
    "        self.row_dim = row_dim\n",
    "        self.col_dim = col_dim\n",
    "\n",
    "        self.W_q = nn.Linear(in_features=embed_dim, out_features=embed_dim, bias=False)\n",
    "        self.W_k = nn.Linear(in_features=embed_dim, out_features=embed_dim, bias=False)\n",
    "        self.W_v = nn.Linear(in_features=embed_dim, out_features=embed_dim, bias=False)\n",
    "\n",
    "    def forward(self, token_encodings):\n",
    "        \"\"\"\n",
    "            param token_encodings: Tensor of shape (num_tokens, embed_dim) - Token Embeddings + Position Encodings\n",
    "\n",
    "        \"\"\" \n",
    "        # Here PyTorch will automatically perform token_encodings (num_tokens x embed_dim) @ W_q.T (embed_dim x embed_dim)\n",
    "        # In our case, this detail doesn't matter much. But in actual transformer architecture, using multi-headed attention W_q weight matrix will be of shape (512 x 64)\n",
    "        # So 8 attention-heads will give us the final embedding dimension after attention mechanism to be 512 dims\n",
    "        \n",
    "        # q, k and v tensors will be of shape (num_tokens X 64) in actual transformer. But in our case it will be (num_tokens x 2[embed_dim])\n",
    "        q = self.W_q(token_encodings)\n",
    "        k = self.W_k(token_encodings)\n",
    "        v = self.W_v(token_encodings)\n",
    "        \n",
    "        similaity_score = torch.matmul(q, k.T)\n",
    "        scaled_similarity_score = similaity_score / k.shape[-1] ** 0.5\n",
    "\n",
    "        # If there were 20 tokens in the input token_encodings, so technically it would be (20 x embed_dim).\n",
    "        # Now after applying self-attention, the final attention_probs matrix will be of dim: (20 x 20).\n",
    "        # If basically gives us the attention_prob (similarity score) of one token against itself and others.\n",
    "        attention_probs = torch.softmax(scaled_similarity_score, dim=self.col_dim)\n",
    "        \n",
    "        attention_scores = attention_probs @ v\n",
    "\n",
    "        return attention_scores\n"
   ]
  },
  {
   "cell_type": "code",
   "execution_count": 97,
   "id": "0ae2b52e",
   "metadata": {},
   "outputs": [],
   "source": [
    "# encodings_matrix of an input sentence \"I am Indian\" will have 3 tokens and embed_dim in our case of 2. Just a dummy assumption.\n",
    "# So we embed these tokens and also add the positional encodings to get a (3 x 2) encoding_matrix for the input sentence\n",
    "encodings_matrix = torch.tensor([[1.16, 0.23],\n",
    "                                 [0.57, 1.36],\n",
    "                                 [4.41, -2.16]\n",
    "                                 ])"
   ]
  },
  {
   "cell_type": "code",
   "execution_count": 103,
   "id": "ad1f1bf0",
   "metadata": {},
   "outputs": [],
   "source": [
    "# Instantiate the SelfAttention class\n",
    "self_attention = SelfAttention(embed_dim=2, row_dim=0, col_dim=1)"
   ]
  },
  {
   "cell_type": "code",
   "execution_count": 104,
   "id": "59338167",
   "metadata": {},
   "outputs": [],
   "source": [
    "attention_output = self_attention(encodings_matrix)"
   ]
  },
  {
   "cell_type": "code",
   "execution_count": 105,
   "id": "c0e74a90",
   "metadata": {},
   "outputs": [
    {
     "data": {
      "text/plain": [
       "torch.Size([3, 2])"
      ]
     },
     "execution_count": 105,
     "metadata": {},
     "output_type": "execute_result"
    }
   ],
   "source": [
    "attention_output.shape"
   ]
  },
  {
   "cell_type": "code",
   "execution_count": 106,
   "id": "3d1d07a7",
   "metadata": {},
   "outputs": [
    {
     "data": {
      "text/plain": [
       "tensor([[1.0100, 1.0641],\n",
       "        [0.2040, 0.7057],\n",
       "        [3.4989, 2.2427]], grad_fn=<MmBackward0>)"
      ]
     },
     "execution_count": 106,
     "metadata": {},
     "output_type": "execute_result"
    }
   ],
   "source": [
    "attention_output"
   ]
  }
 ],
 "metadata": {
  "kernelspec": {
   "display_name": "llm",
   "language": "python",
   "name": "python3"
  },
  "language_info": {
   "codemirror_mode": {
    "name": "ipython",
    "version": 3
   },
   "file_extension": ".py",
   "mimetype": "text/x-python",
   "name": "python",
   "nbconvert_exporter": "python",
   "pygments_lexer": "ipython3",
   "version": "3.10.14"
  }
 },
 "nbformat": 4,
 "nbformat_minor": 5
}
